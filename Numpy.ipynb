{
 "cells": [
  {
   "cell_type": "code",
   "execution_count": 5,
   "id": "e0e2d7eb-f610-4b16-b3e5-b2ad08894a75",
   "metadata": {},
   "outputs": [],
   "source": [
    "import numpy as np"
   ]
  },
  {
   "cell_type": "code",
   "execution_count": 11,
   "id": "cd1a4538-89d8-4c8d-9b92-647549e7a532",
   "metadata": {},
   "outputs": [],
   "source": [
    "# declare a list\n",
    "age = [23,24,25,26]"
   ]
  },
  {
   "cell_type": "code",
   "execution_count": 13,
   "id": "56e5a754-d22c-48e1-a89a-8bec1e48cc7c",
   "metadata": {},
   "outputs": [
    {
     "data": {
      "text/plain": [
       "array([23, 24, 25, 26])"
      ]
     },
     "execution_count": 13,
     "metadata": {},
     "output_type": "execute_result"
    }
   ],
   "source": [
    "# create array using np.array from the list\n",
    "np_array = np.array(age)\n",
    "np_array"
   ]
  },
  {
   "cell_type": "code",
   "execution_count": 15,
   "id": "9f826ef6-0ea5-484f-baf0-f89243c10bac",
   "metadata": {},
   "outputs": [
    {
     "name": "stdout",
     "output_type": "stream",
     "text": [
      "<class 'numpy.ndarray'>\n"
     ]
    }
   ],
   "source": [
    "# check the type of array\n",
    "print(type(np_array))"
   ]
  },
  {
   "cell_type": "code",
   "execution_count": 21,
   "id": "8f523385-30d8-42a4-acb3-09114b9aa493",
   "metadata": {},
   "outputs": [
    {
     "data": {
      "text/plain": [
       "(4,)"
      ]
     },
     "execution_count": 21,
     "metadata": {},
     "output_type": "execute_result"
    }
   ],
   "source": [
    "# shapre of the array\n",
    "np_array.shape"
   ]
  },
  {
   "cell_type": "code",
   "execution_count": 23,
   "id": "ab26c761-a4e1-4fa6-8327-f765c774b8f2",
   "metadata": {},
   "outputs": [],
   "source": [
    "# create array of boooks with price\n",
    "import math"
   ]
  },
  {
   "cell_type": "code",
   "execution_count": 25,
   "id": "32cd2907-803d-410e-b03b-b42771367f56",
   "metadata": {},
   "outputs": [
    {
     "data": {
      "text/plain": [
       "2.0"
      ]
     },
     "execution_count": 25,
     "metadata": {},
     "output_type": "execute_result"
    }
   ],
   "source": [
    "math.sqrt(4)"
   ]
  },
  {
   "cell_type": "code",
   "execution_count": 31,
   "id": "bad43c92-7a3d-4c0f-867a-00d89e7f4572",
   "metadata": {},
   "outputs": [
    {
     "data": {
      "text/plain": [
       "65"
      ]
     },
     "execution_count": 31,
     "metadata": {},
     "output_type": "execute_result"
    }
   ],
   "source": [
    "math.ceil(64.8)"
   ]
  },
  {
   "cell_type": "code",
   "execution_count": 37,
   "id": "45f1291e-aa63-4463-990c-89780f8b5344",
   "metadata": {},
   "outputs": [
    {
     "data": {
      "text/plain": [
       "64"
      ]
     },
     "execution_count": 37,
     "metadata": {},
     "output_type": "execute_result"
    }
   ],
   "source": [
    "math.floor(64.8)"
   ]
  },
  {
   "cell_type": "code",
   "execution_count": 41,
   "id": "7f8065ac-ab1b-4d11-bc22-e7a72324a69f",
   "metadata": {},
   "outputs": [
    {
     "data": {
      "text/plain": [
       "array(['Red', '13', '14', '16', '64', '(6+4j)'], dtype='<U64')"
      ]
     },
     "execution_count": 41,
     "metadata": {},
     "output_type": "execute_result"
    }
   ],
   "source": [
    "# one dimensional arrays\n",
    "elemetns = ['Red',13,14,16,64,6+4j]\n",
    "np.array(elemetns)"
   ]
  },
  {
   "cell_type": "code",
   "execution_count": 55,
   "id": "de3d71de-f2f9-4dc8-b650-fc8b7af956b2",
   "metadata": {},
   "outputs": [
    {
     "data": {
      "text/plain": [
       "array([1, 2, 3, 4])"
      ]
     },
     "execution_count": 55,
     "metadata": {},
     "output_type": "execute_result"
    }
   ],
   "source": [
    "np.array([1,2,3,4])\n"
   ]
  },
  {
   "cell_type": "code",
   "execution_count": 57,
   "id": "d35b4c76-dbfe-45c0-8ed2-59759ad7b59d",
   "metadata": {},
   "outputs": [
    {
     "data": {
      "text/plain": [
       "array([1. , 2.5, 3. ])"
      ]
     },
     "execution_count": 57,
     "metadata": {},
     "output_type": "execute_result"
    }
   ],
   "source": [
    "np.array([1,2])"
   ]
  },
  {
   "cell_type": "code",
   "execution_count": 61,
   "id": "6aad1bb5-d53d-4afa-84d6-e483cbf87aad",
   "metadata": {},
   "outputs": [
    {
     "data": {
      "text/plain": [
       "array([0.5, 1. , 1.5, 2. ])"
      ]
     },
     "execution_count": 61,
     "metadata": {},
     "output_type": "execute_result"
    }
   ],
   "source": [
    "ar1 = np.array([1,2,3,4])\n",
    "ar1/2"
   ]
  },
  {
   "cell_type": "code",
   "execution_count": 65,
   "id": "4e4da390-4d3a-4a30-9153-4fd6e0948a91",
   "metadata": {},
   "outputs": [
    {
     "ename": "TypeError",
     "evalue": "unsupported operand type(s) for /: 'list' and 'int'",
     "output_type": "error",
     "traceback": [
      "\u001b[0;31m---------------------------------------------------------------------------\u001b[0m",
      "\u001b[0;31mTypeError\u001b[0m                                 Traceback (most recent call last)",
      "Cell \u001b[0;32mIn[65], line 2\u001b[0m\n\u001b[1;32m      1\u001b[0m ls1 \u001b[38;5;241m=\u001b[39m [\u001b[38;5;241m1\u001b[39m,\u001b[38;5;241m2\u001b[39m,\u001b[38;5;241m3\u001b[39m,\u001b[38;5;241m4\u001b[39m]\n\u001b[0;32m----> 2\u001b[0m ls1\u001b[38;5;241m/\u001b[39m\u001b[38;5;241m2\u001b[39m\n",
      "\u001b[0;31mTypeError\u001b[0m: unsupported operand type(s) for /: 'list' and 'int'"
     ]
    }
   ],
   "source": [
    "ls1 = [1,2,3,4]\n",
    "ls1/2"
   ]
  },
  {
   "cell_type": "code",
   "execution_count": 71,
   "id": "ce6fd1d6-1726-449b-b7ad-ee584e317240",
   "metadata": {},
   "outputs": [
    {
     "data": {
      "text/plain": [
       "array([[1, 2, 3],\n",
       "       [1, 2, 3],\n",
       "       [1, 2, 3],\n",
       "       [1, 2, 3]])"
      ]
     },
     "execution_count": 71,
     "metadata": {},
     "output_type": "execute_result"
    }
   ],
   "source": [
    "# multi dimensional arrays\n",
    "ma1 = np.array([[1,2,3],[1,2,3],[1,2,3],[1,2,3]])\n",
    "ma1"
   ]
  },
  {
   "cell_type": "code",
   "execution_count": 73,
   "id": "5c4b473e-4d6b-422d-a3b3-3a04c21c15ce",
   "metadata": {},
   "outputs": [
    {
     "data": {
      "text/plain": [
       "(4, 3)"
      ]
     },
     "execution_count": 73,
     "metadata": {},
     "output_type": "execute_result"
    }
   ],
   "source": [
    "ma1.shape"
   ]
  },
  {
   "cell_type": "code",
   "execution_count": 83,
   "id": "cf8f9da8-0b89-47d2-9b80-9df472a22a5d",
   "metadata": {},
   "outputs": [
    {
     "data": {
      "text/plain": [
       "array([[ 10,  20,  30],\n",
       "       [ 40,  50,  60],\n",
       "       [ 70,  80,  90],\n",
       "       [100, 110, 120]])"
      ]
     },
     "execution_count": 83,
     "metadata": {},
     "output_type": "execute_result"
    }
   ],
   "source": [
    "a1 = np.array([[10,20,30],[40,50,60],[70,80,90],[100,110,120]])\n",
    "a1"
   ]
  },
  {
   "cell_type": "code",
   "execution_count": 129,
   "id": "881eacad-3ed3-47c9-b074-809e7e0993fb",
   "metadata": {},
   "outputs": [
    {
     "data": {
      "text/plain": [
       "array([[0., 0.],\n",
       "       [0., 0.]])"
      ]
     },
     "execution_count": 129,
     "metadata": {},
     "output_type": "execute_result"
    }
   ],
   "source": [
    "# initialize the array with zeros\n",
    "np.zeros((2,2))"
   ]
  },
  {
   "cell_type": "code",
   "execution_count": 131,
   "id": "7235a8d0-046d-4b55-9d0d-2ca7b0e16432",
   "metadata": {},
   "outputs": [
    {
     "data": {
      "text/plain": [
       "array([[0, 0],\n",
       "       [0, 0]])"
      ]
     },
     "execution_count": 131,
     "metadata": {},
     "output_type": "execute_result"
    }
   ],
   "source": [
    "np.zeros((2,2),int)"
   ]
  },
  {
   "cell_type": "code",
   "execution_count": 133,
   "id": "d6a010d7-e314-4a15-b2d5-44cacbfdac0d",
   "metadata": {},
   "outputs": [
    {
     "data": {
      "text/plain": [
       "array([[1., 1.],\n",
       "       [1., 1.]])"
      ]
     },
     "execution_count": 133,
     "metadata": {},
     "output_type": "execute_result"
    }
   ],
   "source": [
    "# initialize the array with ones\n",
    "np.ones((2,2))"
   ]
  },
  {
   "cell_type": "code",
   "execution_count": 157,
   "id": "43223aa5-8a58-4318-909c-8f4362b675ed",
   "metadata": {},
   "outputs": [
    {
     "data": {
      "text/plain": [
       "array([[3, 3],\n",
       "       [3, 3]])"
      ]
     },
     "execution_count": 157,
     "metadata": {},
     "output_type": "execute_result"
    }
   ],
   "source": [
    "# fill the array with the data (3 - here)\n",
    "np.full((2,2),3)"
   ]
  },
  {
   "cell_type": "code",
   "execution_count": 137,
   "id": "aec84421-dda5-4f7e-b435-d7e648c38c47",
   "metadata": {},
   "outputs": [
    {
     "data": {
      "text/plain": [
       "array([0, 1, 2, 3, 4, 5, 6, 7, 8, 9])"
      ]
     },
     "execution_count": 137,
     "metadata": {},
     "output_type": "execute_result"
    }
   ],
   "source": [
    "# initialize array with range of elements\n",
    "np.arange(10)"
   ]
  },
  {
   "cell_type": "code",
   "execution_count": 139,
   "id": "3cca220e-6354-4649-9f63-ad85018f9aaf",
   "metadata": {},
   "outputs": [
    {
     "data": {
      "text/plain": [
       "array([5, 6, 7])"
      ]
     },
     "execution_count": 139,
     "metadata": {},
     "output_type": "execute_result"
    }
   ],
   "source": [
    "np.arange(5,8)"
   ]
  },
  {
   "cell_type": "code",
   "execution_count": 173,
   "id": "4c2f2900-3cc0-4644-8a38-191313482b44",
   "metadata": {},
   "outputs": [
    {
     "data": {
      "text/plain": [
       "array([1, 3, 5, 7])"
      ]
     },
     "execution_count": 173,
     "metadata": {},
     "output_type": "execute_result"
    }
   ],
   "source": [
    "a = np.arange(1,8,2)\n",
    "a"
   ]
  },
  {
   "cell_type": "code",
   "execution_count": 179,
   "id": "85ce2097-904c-444c-a99e-38cc5d2f8d08",
   "metadata": {},
   "outputs": [
    {
     "data": {
      "text/plain": [
       "array([100,  98,  96,  94,  92,  90,  88,  86,  84,  82])"
      ]
     },
     "execution_count": 179,
     "metadata": {},
     "output_type": "execute_result"
    }
   ],
   "source": [
    "# reverse\n",
    "np.arange(100,80,-2)"
   ]
  },
  {
   "cell_type": "code",
   "execution_count": 185,
   "id": "e63d8dc6-f0a9-4cbf-bee6-f0b9d53fd843",
   "metadata": {},
   "outputs": [
    {
     "data": {
      "text/plain": [
       "array([3, 4, 5, 6, 7])"
      ]
     },
     "execution_count": 185,
     "metadata": {},
     "output_type": "execute_result"
    }
   ],
   "source": [
    "np.arange(3,8)"
   ]
  },
  {
   "cell_type": "code",
   "execution_count": 189,
   "id": "c36a00b7-31de-4404-8a97-905f7558374f",
   "metadata": {},
   "outputs": [
    {
     "data": {
      "text/plain": [
       "0.5427701620527028"
      ]
     },
     "execution_count": 189,
     "metadata": {},
     "output_type": "execute_result"
    }
   ],
   "source": [
    "np.random.rand()"
   ]
  },
  {
   "cell_type": "code",
   "execution_count": 195,
   "id": "049d3bdc-f642-404d-b697-b750ab53a801",
   "metadata": {},
   "outputs": [
    {
     "data": {
      "text/plain": [
       "array([0.64054489, 1.0586193 ])"
      ]
     },
     "execution_count": 195,
     "metadata": {},
     "output_type": "execute_result"
    }
   ],
   "source": [
    "np.arange(np.random.rand(), np.random.rand()+1, np.random.rand())"
   ]
  },
  {
   "cell_type": "code",
   "execution_count": 197,
   "id": "82f83c18-8148-490b-a2b5-9745a5e07de1",
   "metadata": {},
   "outputs": [
    {
     "data": {
      "text/plain": [
       "array([0.55518181, 0.05096433, 0.1192488 , 0.129147  ])"
      ]
     },
     "execution_count": 197,
     "metadata": {},
     "output_type": "execute_result"
    }
   ],
   "source": [
    "np.random.rand(4)"
   ]
  },
  {
   "cell_type": "code",
   "execution_count": 199,
   "id": "9af5ca39-c27f-42bf-a6ed-c672fa8792f1",
   "metadata": {},
   "outputs": [
    {
     "data": {
      "text/plain": [
       "array([[0.66718076, 0.16278913],\n",
       "       [0.13625752, 0.99105857],\n",
       "       [0.06384675, 0.58871497],\n",
       "       [0.67976337, 0.96205768]])"
      ]
     },
     "execution_count": 199,
     "metadata": {},
     "output_type": "execute_result"
    }
   ],
   "source": [
    "np.random.rand(4,2)"
   ]
  },
  {
   "cell_type": "code",
   "execution_count": 223,
   "id": "3c4c997c-ec4e-4d32-9bf2-1bd2a0f11bb3",
   "metadata": {},
   "outputs": [
    {
     "data": {
      "text/plain": [
       "1"
      ]
     },
     "execution_count": 223,
     "metadata": {},
     "output_type": "execute_result"
    }
   ],
   "source": [
    "np.random.randint(5)"
   ]
  },
  {
   "cell_type": "code",
   "execution_count": 227,
   "id": "f4367faa-edd7-4b44-839b-cfe11caa97ec",
   "metadata": {},
   "outputs": [
    {
     "data": {
      "text/plain": [
       "3"
      ]
     },
     "execution_count": 227,
     "metadata": {},
     "output_type": "execute_result"
    }
   ],
   "source": [
    "np.random.randint(2,5)"
   ]
  },
  {
   "cell_type": "code",
   "execution_count": 249,
   "id": "44a6d6a7-9151-497c-89a7-db91e52739a8",
   "metadata": {},
   "outputs": [
    {
     "data": {
      "text/plain": [
       "array([2, 7, 3, 3])"
      ]
     },
     "execution_count": 249,
     "metadata": {},
     "output_type": "execute_result"
    }
   ],
   "source": [
    "np.random.randint(2,8,4)"
   ]
  },
  {
   "cell_type": "code",
   "execution_count": 255,
   "id": "5b061609-0cfd-4115-b335-f9f8471496b5",
   "metadata": {},
   "outputs": [
    {
     "data": {
      "text/plain": [
       "'14'"
      ]
     },
     "execution_count": 255,
     "metadata": {},
     "output_type": "execute_result"
    }
   ],
   "source": [
    "elemetns = ['Red',13,14,16,64,6+4j]\n",
    "np.random.choice(elemetns)"
   ]
  },
  {
   "cell_type": "code",
   "execution_count": 488,
   "id": "99d97aea-02cb-4dd2-8f77-1033e919363a",
   "metadata": {},
   "outputs": [
    {
     "name": "stdin",
     "output_type": "stream",
     "text": [
      "Enter the value from 'Rock', 'Paper', 'Scissor' Rock\n"
     ]
    },
    {
     "name": "stdout",
     "output_type": "stream",
     "text": [
      "Rajnish has choosed Rock and Computer chosen: Paper and \n",
      "Computer is the winner!\n"
     ]
    }
   ],
   "source": [
    "import numpy as np\n",
    "import os\n",
    "\n",
    "class Play:\n",
    "    def __init__(self):\n",
    "        self.combinations = ['Rock', 'Paper', 'Scissor']\n",
    "\n",
    "    def username(self):\n",
    "        username = os.getlogin()\n",
    "        return username.title()\n",
    "    \n",
    "    def user(self, user_value):\n",
    "        if user_value not in self.combinations:\n",
    "            print('Invalid choice. Try again.')\n",
    "            return None\n",
    "        return user_value\n",
    "\n",
    "    def computer(self):\n",
    "        computer_choice = np.random.choice(self.combinations)\n",
    "        return computer_choice\n",
    "    \n",
    "    def rules(self, user1, user2):\n",
    "        if user1 == user2:\n",
    "            print(\"It's a tie!\")\n",
    "        elif (user1 == 'Rock' and user2 == 'Scissor') or \\\n",
    "             (user1 == 'Paper' and user2 == 'Rock') or \\\n",
    "             (user1 == 'Scissor' and user2 == 'Paper'):\n",
    "            print('User is the winner!')\n",
    "        else:\n",
    "            print('Computer is the winner!')\n",
    "\n",
    "\n",
    "if __name__ == '__main__':\n",
    "    game = Play()\n",
    "    username = game.username()\n",
    "    user_value = input(\"Enter the value from 'Rock', 'Paper', 'Scissor'\")\n",
    "    user_choice = game.user(user_value)\n",
    "    if user_choice is not None:\n",
    "        computer_choice = game.computer()\n",
    "        print(f'{username} has choosed {user_choice} and Computer chosen: {computer_choice} and ')\n",
    "        game.rules(user_choice, computer_choice)"
   ]
  },
  {
   "cell_type": "code",
   "execution_count": 334,
   "id": "48607ccb-c989-4707-9fc1-22c3435cc58b",
   "metadata": {},
   "outputs": [
    {
     "data": {
      "text/plain": [
       "(4,)"
      ]
     },
     "execution_count": 334,
     "metadata": {},
     "output_type": "execute_result"
    }
   ],
   "source": [
    "ar1.shape"
   ]
  },
  {
   "cell_type": "code",
   "execution_count": 364,
   "id": "b4725e30-c8dd-4fc0-acd8-f3659db42f31",
   "metadata": {},
   "outputs": [
    {
     "data": {
      "text/plain": [
       "array([ 23,  65, 112,  39,   2,  55, -65, 120,   5,  11])"
      ]
     },
     "execution_count": 364,
     "metadata": {},
     "output_type": "execute_result"
    }
   ],
   "source": [
    "ar3 = np.array([23,65,112,39,2,55,-65,120,5,11])\n",
    "ar3"
   ]
  },
  {
   "cell_type": "code",
   "execution_count": 376,
   "id": "a74d023c-1992-4c2c-9725-d0c2366ba20f",
   "metadata": {},
   "outputs": [
    {
     "data": {
      "text/plain": [
       "array([120, 112,  65,  55,  39,  23,  11,   5,   2, -65])"
      ]
     },
     "execution_count": 376,
     "metadata": {},
     "output_type": "execute_result"
    }
   ],
   "source": [
    "np.sort(ar3)[::-1]"
   ]
  },
  {
   "cell_type": "code",
   "execution_count": 380,
   "id": "6f9c21d5-3f54-4682-b004-9b682d43a4dd",
   "metadata": {},
   "outputs": [
    {
     "data": {
      "text/plain": [
       "array([7, 2, 1, 5, 3, 0, 9, 8, 4, 6])"
      ]
     },
     "execution_count": 380,
     "metadata": {},
     "output_type": "execute_result"
    }
   ],
   "source": [
    "np.argsort(ar3)[::-1]"
   ]
  },
  {
   "cell_type": "code",
   "execution_count": 390,
   "id": "31e9c27b-1186-472b-9dcb-e431ad41255b",
   "metadata": {},
   "outputs": [],
   "source": [
    "# union -  meging multiple arrays\n",
    "ar4 = np.array([11,12,13])\n",
    "ar5 = np.array([13,14,15])\n",
    "ar6 = np.array([11,12,16])"
   ]
  },
  {
   "cell_type": "code",
   "execution_count": 392,
   "id": "9a432025-bcb5-4be1-9cb1-46f3a74a2aad",
   "metadata": {},
   "outputs": [
    {
     "data": {
      "text/plain": [
       "(array([11, 12, 13]), array([13, 14, 15]), array([11, 12, 16]))"
      ]
     },
     "execution_count": 392,
     "metadata": {},
     "output_type": "execute_result"
    }
   ],
   "source": [
    "ar4,ar5,ar6"
   ]
  },
  {
   "cell_type": "code",
   "execution_count": 398,
   "id": "21534761-fba4-4a89-8e57-32a94158f47b",
   "metadata": {},
   "outputs": [
    {
     "data": {
      "text/plain": [
       "array([[11, 12, 13],\n",
       "       [13, 14, 15],\n",
       "       [11, 12, 16]])"
      ]
     },
     "execution_count": 398,
     "metadata": {},
     "output_type": "execute_result"
    }
   ],
   "source": [
    "# vertical stack - VSTACK\n",
    "np.vstack([ar4,ar5,ar6])"
   ]
  },
  {
   "cell_type": "code",
   "execution_count": 400,
   "id": "ed49af10-a75d-4486-ad81-6aec1b2244b5",
   "metadata": {},
   "outputs": [
    {
     "data": {
      "text/plain": [
       "array([11, 12, 13, 13, 14, 15, 11, 12, 16])"
      ]
     },
     "execution_count": 400,
     "metadata": {},
     "output_type": "execute_result"
    }
   ],
   "source": [
    "np.hstack([ar4,ar5,ar6])"
   ]
  },
  {
   "cell_type": "code",
   "execution_count": 402,
   "id": "38688215-fb59-40ce-a6b4-4ba2f604d4f8",
   "metadata": {},
   "outputs": [
    {
     "data": {
      "text/plain": [
       "array([[11, 13, 11],\n",
       "       [12, 14, 12],\n",
       "       [13, 15, 16]])"
      ]
     },
     "execution_count": 402,
     "metadata": {},
     "output_type": "execute_result"
    }
   ],
   "source": [
    "np.column_stack([ar4,ar5,ar6])"
   ]
  },
  {
   "cell_type": "code",
   "execution_count": 408,
   "id": "272c4698-5b79-4027-9e13-c3b55015174e",
   "metadata": {},
   "outputs": [
    {
     "data": {
      "text/plain": [
       "array([11, 12])"
      ]
     },
     "execution_count": 408,
     "metadata": {},
     "output_type": "execute_result"
    }
   ],
   "source": [
    "np.intersect1d(ar4,ar6)"
   ]
  },
  {
   "cell_type": "code",
   "execution_count": 418,
   "id": "22040d41-66f6-4dc4-8344-112e90d5b9ee",
   "metadata": {},
   "outputs": [
    {
     "data": {
      "text/plain": [
       "array([13])"
      ]
     },
     "execution_count": 418,
     "metadata": {},
     "output_type": "execute_result"
    }
   ],
   "source": [
    "np.setdiff1d(ar4,ar6)"
   ]
  },
  {
   "cell_type": "code",
   "execution_count": 420,
   "id": "b876f844-62f7-42d7-86c0-26e88e9d251c",
   "metadata": {},
   "outputs": [
    {
     "data": {
      "text/plain": [
       "array([16])"
      ]
     },
     "execution_count": 420,
     "metadata": {},
     "output_type": "execute_result"
    }
   ],
   "source": [
    "np.setdiff1d(ar6,ar4)"
   ]
  },
  {
   "cell_type": "code",
   "execution_count": 424,
   "id": "c43467b4-a155-48d5-b6c0-0179d317347c",
   "metadata": {},
   "outputs": [
    {
     "data": {
      "text/plain": [
       "75"
      ]
     },
     "execution_count": 424,
     "metadata": {},
     "output_type": "execute_result"
    }
   ],
   "source": [
    "np.sum([ar4,ar6])"
   ]
  },
  {
   "cell_type": "code",
   "execution_count": 434,
   "id": "477093fc-22d0-4b53-bbca-0f68e6329220",
   "metadata": {},
   "outputs": [
    {
     "data": {
      "text/plain": [
       "array([22, 24, 29])"
      ]
     },
     "execution_count": 434,
     "metadata": {},
     "output_type": "execute_result"
    }
   ],
   "source": [
    "np.sum([ar4,ar6], axis=0)"
   ]
  },
  {
   "cell_type": "code",
   "execution_count": 442,
   "id": "9fa4e623-ff4c-40dd-9a3e-23bd442b6279",
   "metadata": {},
   "outputs": [],
   "source": [
    "ar8 = np.array([[10,20,30],\n",
    "                [40,50,60]])\n",
    "ar9 = np.array([[11,22,33],\n",
    "                [44,55,66]])"
   ]
  },
  {
   "cell_type": "code",
   "execution_count": 444,
   "id": "c1b55fba-4050-4a49-a9fe-2885d6df1fdd",
   "metadata": {},
   "outputs": [
    {
     "data": {
      "text/plain": [
       "array([[ 21,  42,  63],\n",
       "       [ 84, 105, 126]])"
      ]
     },
     "execution_count": 444,
     "metadata": {},
     "output_type": "execute_result"
    }
   ],
   "source": [
    "np.sum([ar8,ar9],axis=0)"
   ]
  },
  {
   "cell_type": "code",
   "execution_count": 446,
   "id": "3e5164a3-2189-4788-9a03-709ed4b6a35f",
   "metadata": {},
   "outputs": [
    {
     "data": {
      "text/plain": [
       "array([[50, 70, 90],\n",
       "       [55, 77, 99]])"
      ]
     },
     "execution_count": 446,
     "metadata": {},
     "output_type": "execute_result"
    }
   ],
   "source": [
    "np.sum([ar8,ar9],axis=1)"
   ]
  },
  {
   "cell_type": "code",
   "execution_count": 452,
   "id": "fc70759c-5aef-4077-8e35-520e045462d3",
   "metadata": {},
   "outputs": [
    {
     "data": {
      "text/plain": [
       "array([[10, 20, 30],\n",
       "       [40, 50, 60]])"
      ]
     },
     "execution_count": 452,
     "metadata": {},
     "output_type": "execute_result"
    }
   ],
   "source": [
    "ar10 = np.array([[10,20,30],[40,50,60]])\n",
    "ar10"
   ]
  },
  {
   "cell_type": "code",
   "execution_count": 454,
   "id": "9ebf1cb3-3c27-41ba-8f19-b0fba19793ad",
   "metadata": {},
   "outputs": [
    {
     "data": {
      "text/plain": [
       "array([[10, 40],\n",
       "       [20, 50],\n",
       "       [30, 60]])"
      ]
     },
     "execution_count": 454,
     "metadata": {},
     "output_type": "execute_result"
    }
   ],
   "source": [
    "ar10.transpose()"
   ]
  },
  {
   "cell_type": "code",
   "execution_count": 456,
   "id": "4be177ad-3be5-4f0d-8342-a0ed7d7bb6df",
   "metadata": {},
   "outputs": [
    {
     "data": {
      "text/plain": [
       "array([[10, 40],\n",
       "       [20, 50],\n",
       "       [30, 60]])"
      ]
     },
     "execution_count": 456,
     "metadata": {},
     "output_type": "execute_result"
    }
   ],
   "source": [
    "np.transpose(ar10)"
   ]
  },
  {
   "cell_type": "code",
   "execution_count": 466,
   "id": "c06e4791-c888-4229-a336-89b956f85ab2",
   "metadata": {},
   "outputs": [
    {
     "data": {
      "text/plain": [
       "array([[1., 0., 0., 0.],\n",
       "       [0., 1., 0., 0.],\n",
       "       [0., 0., 1., 0.],\n",
       "       [0., 0., 0., 1.]])"
      ]
     },
     "execution_count": 466,
     "metadata": {},
     "output_type": "execute_result"
    }
   ],
   "source": [
    "# identity metrix - 1's in diagonal and 0's in other positions of a matrix\n",
    "np.eye(4,4)"
   ]
  },
  {
   "cell_type": "code",
   "execution_count": 484,
   "id": "a73df9f2-b1d3-4fbc-9068-a5b2bfd8524c",
   "metadata": {},
   "outputs": [
    {
     "data": {
      "text/plain": [
       "array([[0., 1., 0., 0.],\n",
       "       [0., 0., 1., 0.],\n",
       "       [0., 0., 0., 1.],\n",
       "       [0., 0., 0., 0.]])"
      ]
     },
     "execution_count": 484,
     "metadata": {},
     "output_type": "execute_result"
    }
   ],
   "source": [
    "np.eye(4,4,k=1)"
   ]
  },
  {
   "cell_type": "code",
   "execution_count": 486,
   "id": "1b08ce3a-c010-4216-895c-0e256f329513",
   "metadata": {},
   "outputs": [],
   "source": [
    "# save numpy file\n",
    "# np.save('mynmpy',ar8)"
   ]
  },
  {
   "cell_type": "code",
   "execution_count": null,
   "id": "17f6d233-925e-4d46-acfd-057d762d2df1",
   "metadata": {},
   "outputs": [],
   "source": [
    "# open the numpy file\n",
    "# np.load(mynmpy.npy)"
   ]
  }
 ],
 "metadata": {
  "kernelspec": {
   "display_name": "Python 3 (ipykernel)",
   "language": "python",
   "name": "python3"
  },
  "language_info": {
   "codemirror_mode": {
    "name": "ipython",
    "version": 3
   },
   "file_extension": ".py",
   "mimetype": "text/x-python",
   "name": "python",
   "nbconvert_exporter": "python",
   "pygments_lexer": "ipython3",
   "version": "3.12.4"
  }
 },
 "nbformat": 4,
 "nbformat_minor": 5
}
